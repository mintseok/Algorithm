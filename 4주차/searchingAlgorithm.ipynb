{
  "nbformat": 4,
  "nbformat_minor": 0,
  "metadata": {
    "colab": {
      "name": "searchingAlgorithm.ipynb",
      "provenance": [],
      "collapsed_sections": [],
      "authorship_tag": "ABX9TyNcF+GzG6yJbh26oNQ7sUNJ",
      "include_colab_link": true
    },
    "kernelspec": {
      "name": "python3",
      "display_name": "Python 3"
    },
    "language_info": {
      "name": "python"
    }
  },
  "cells": [
    {
      "cell_type": "markdown",
      "metadata": {
        "id": "view-in-github",
        "colab_type": "text"
      },
      "source": [
        "<a href=\"https://colab.research.google.com/github/mintseok/Algorithm/blob/main/4%EC%A3%BC%EC%B0%A8/searchingAlgorithm.ipynb\" target=\"_parent\"><img src=\"https://colab.research.google.com/assets/colab-badge.svg\" alt=\"Open In Colab\"/></a>"
      ]
    },
    {
      "cell_type": "code",
      "metadata": {
        "id": "eS6V_U-M1Zml"
      },
      "source": [
        "def binarySearch(arr, target):\n",
        "  start = 0\n",
        "  end = len(arr) - 1\n",
        "  mid = int((start+end)/2) # (start+end) // 이 방법도 있다\n",
        "\n",
        "  while (end-start) >= 0:\n",
        "    if arr[mid] == target:\n",
        "      return True\n",
        "    else:\n",
        "      if arr[mid] < target: # mid 기준 오른쪽을 탐색해야 한다.\n",
        "        start = mid+1\n",
        "        mid = int((start+end)/2)\n",
        "      else:\n",
        "        end = mid-1\n",
        "        mid = int((start+end)/2)\n",
        "\n",
        "  return False\n",
        "\n",
        "def sequentialSearch(arr, target):\n",
        "  for i in range(len(arr)):\n",
        "    if arr[i] == target:\n",
        "      return True\n",
        "  return False\n",
        "\n"
      ],
      "execution_count": 94,
      "outputs": []
    },
    {
      "cell_type": "code",
      "metadata": {
        "id": "97WOcQMrJJyi"
      },
      "source": [
        "# 정렬 알고리즘으로 <퀵 정렬> 선택 및 구현\n",
        "def quick_sort(arr):\n",
        "    if len(arr) <= 1:\n",
        "        return arr\n",
        "    pivot = arr[len(arr) // 2]\n",
        "    lesser_arr, equal_arr, greater_arr = [], [], []\n",
        "    for num in arr:\n",
        "        if num < pivot:\n",
        "            lesser_arr.append(num)\n",
        "        elif num > pivot:\n",
        "            greater_arr.append(num)\n",
        "        else:\n",
        "            equal_arr.append(num)\n",
        "    return quick_sort(lesser_arr) + equal_arr + quick_sort(greater_arr)"
      ],
      "execution_count": 95,
      "outputs": []
    },
    {
      "cell_type": "code",
      "metadata": {
        "colab": {
          "base_uri": "https://localhost:8080/"
        },
        "id": "pFycH5j5MfqM",
        "outputId": "d48e5741-b485-462a-a213-fac84432f815"
      },
      "source": [
        "import time\n",
        "from random import seed, shuffle\n",
        "\n",
        "#seed(1)\n",
        "sequence = [i+1 for i in range(500)]\n",
        "\n",
        "target = 456\n",
        "\n",
        "# < 정렬된 경우 >\n",
        "print(\"<-- 정렬된 경우 -->\\n\")\n",
        "# 이진탐색\n",
        "start = time.time()\n",
        "binarySearch(sequence, target)\n",
        "end = time.time()\n",
        "print(f\"[이진 탐색] {end-start:6f}\\n\")\n",
        "# 순차탐색\n",
        "start = time.time()\n",
        "sequentialSearch(sequence, target)\n",
        "end = time.time()\n",
        "print(f\"[순차 탐색] {end-start:6f}\")\n",
        "\n",
        "# < 정렬되지 않은 경우 > \n",
        "print(\"\\n\\n<-- 정렬되지 않은 경우 -->\\n\")\n",
        "shuffle(sequence)\n",
        "# 이진탐색\n",
        "start = time.time()\n",
        "binarySearch(sequence, target)\n",
        "end = time.time()\n",
        "print(f\"[이진 탐색] {end-start:6f}\\n\")\n",
        "# 순차탐색\n",
        "start = time.time()\n",
        "sequentialSearch(sequence, target)\n",
        "end = time.time()\n",
        "print(f\"[순차 탐색] {end-start:6f}\")"
      ],
      "execution_count": 96,
      "outputs": [
        {
          "output_type": "stream",
          "name": "stdout",
          "text": [
            "<-- 정렬된 경우 -->\n",
            "\n",
            "[이진 탐색] 0.000049\n",
            "\n",
            "[순차 탐색] 0.000076\n",
            "\n",
            "\n",
            "<-- 정렬되지 않은 경우 -->\n",
            "\n",
            "[이진 탐색] 0.000041\n",
            "\n",
            "[순차 탐색] 0.000043\n"
          ]
        }
      ]
    },
    {
      "cell_type": "code",
      "metadata": {
        "id": "vhIVCOBeAs4C"
      },
      "source": [
        "# 더 공부해야 이해할 것 같은 알고리즘... .어렵구만\n",
        "\n",
        "def quick_sort(arr):\n",
        "    def sort(low, high):\n",
        "        if high <= low:\n",
        "            return\n",
        "\n",
        "        mid = partition(low, high)\n",
        "        sort(low, mid - 1)\n",
        "        sort(mid, high)\n",
        "\n",
        "    def partition(low, high):\n",
        "        pivot = arr[(low + high) // 2]\n",
        "        while low <= high:\n",
        "            while arr[low] < pivot:\n",
        "                low += 1\n",
        "            while arr[high] > pivot:\n",
        "                high -= 1\n",
        "            if low <= high:\n",
        "                arr[low], arr[high] = arr[high], arr[low]\n",
        "                low, high = low + 1, high - 1\n",
        "        return low\n",
        "\n",
        "    return sort(0, len(arr) - 1)"
      ],
      "execution_count": 97,
      "outputs": []
    },
    {
      "cell_type": "code",
      "metadata": {
        "colab": {
          "base_uri": "https://localhost:8080/"
        },
        "id": "IsT5ooV8JxoT",
        "outputId": "31b3c841-3a7b-4126-d1d2-71bb6014099c"
      },
      "source": [
        "seq = sequence\n",
        "quick_sort(seq)\n",
        "print(seq)"
      ],
      "execution_count": 98,
      "outputs": [
        {
          "output_type": "stream",
          "name": "stdout",
          "text": [
            "[1, 2, 3, 4, 5, 6, 7, 8, 9, 10, 11, 12, 13, 14, 15, 16, 17, 18, 19, 20, 21, 22, 23, 24, 25, 26, 27, 28, 29, 30, 31, 32, 33, 34, 35, 36, 37, 38, 39, 40, 41, 42, 43, 44, 45, 46, 47, 48, 49, 50, 51, 52, 53, 54, 55, 56, 57, 58, 59, 60, 61, 62, 63, 64, 65, 66, 67, 68, 69, 70, 71, 72, 73, 74, 75, 76, 77, 78, 79, 80, 81, 82, 83, 84, 85, 86, 87, 88, 89, 90, 91, 92, 93, 94, 95, 96, 97, 98, 99, 100, 101, 102, 103, 104, 105, 106, 107, 108, 109, 110, 111, 112, 113, 114, 115, 116, 117, 118, 119, 120, 121, 122, 123, 124, 125, 126, 127, 128, 129, 130, 131, 132, 133, 134, 135, 136, 137, 138, 139, 140, 141, 142, 143, 144, 145, 146, 147, 148, 149, 150, 151, 152, 153, 154, 155, 156, 157, 158, 159, 160, 161, 162, 163, 164, 165, 166, 167, 168, 169, 170, 171, 172, 173, 174, 175, 176, 177, 178, 179, 180, 181, 182, 183, 184, 185, 186, 187, 188, 189, 190, 191, 192, 193, 194, 195, 196, 197, 198, 199, 200, 201, 202, 203, 204, 205, 206, 207, 208, 209, 210, 211, 212, 213, 214, 215, 216, 217, 218, 219, 220, 221, 222, 223, 224, 225, 226, 227, 228, 229, 230, 231, 232, 233, 234, 235, 236, 237, 238, 239, 240, 241, 242, 243, 244, 245, 246, 247, 248, 249, 250, 251, 252, 253, 254, 255, 256, 257, 258, 259, 260, 261, 262, 263, 264, 265, 266, 267, 268, 269, 270, 271, 272, 273, 274, 275, 276, 277, 278, 279, 280, 281, 282, 283, 284, 285, 286, 287, 288, 289, 290, 291, 292, 293, 294, 295, 296, 297, 298, 299, 300, 301, 302, 303, 304, 305, 306, 307, 308, 309, 310, 311, 312, 313, 314, 315, 316, 317, 318, 319, 320, 321, 322, 323, 324, 325, 326, 327, 328, 329, 330, 331, 332, 333, 334, 335, 336, 337, 338, 339, 340, 341, 342, 343, 344, 345, 346, 347, 348, 349, 350, 351, 352, 353, 354, 355, 356, 357, 358, 359, 360, 361, 362, 363, 364, 365, 366, 367, 368, 369, 370, 371, 372, 373, 374, 375, 376, 377, 378, 379, 380, 381, 382, 383, 384, 385, 386, 387, 388, 389, 390, 391, 392, 393, 394, 395, 396, 397, 398, 399, 400, 401, 402, 403, 404, 405, 406, 407, 408, 409, 410, 411, 412, 413, 414, 415, 416, 417, 418, 419, 420, 421, 422, 423, 424, 425, 426, 427, 428, 429, 430, 431, 432, 433, 434, 435, 436, 437, 438, 439, 440, 441, 442, 443, 444, 445, 446, 447, 448, 449, 450, 451, 452, 453, 454, 455, 456, 457, 458, 459, 460, 461, 462, 463, 464, 465, 466, 467, 468, 469, 470, 471, 472, 473, 474, 475, 476, 477, 478, 479, 480, 481, 482, 483, 484, 485, 486, 487, 488, 489, 490, 491, 492, 493, 494, 495, 496, 497, 498, 499, 500]\n"
          ]
        }
      ]
    }
  ]
}